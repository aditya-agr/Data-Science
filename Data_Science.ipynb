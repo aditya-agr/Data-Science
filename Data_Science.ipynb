{
  "nbformat": 4,
  "nbformat_minor": 0,
  "metadata": {
    "colab": {
      "provenance": [],
      "toc_visible": true,
      "authorship_tag": "ABX9TyO/ikPk3B+XZOnxp5USvc4a",
      "include_colab_link": true
    },
    "kernelspec": {
      "name": "python3",
      "display_name": "Python 3"
    },
    "language_info": {
      "name": "python"
    }
  },
  "cells": [
    {
      "cell_type": "markdown",
      "metadata": {
        "id": "view-in-github",
        "colab_type": "text"
      },
      "source": [
        "<a href=\"https://colab.research.google.com/github/aditya-agr/Data-Science/blob/main/Data_Science.ipynb\" target=\"_parent\"><img src=\"https://colab.research.google.com/assets/colab-badge.svg\" alt=\"Open In Colab\"/></a>"
      ]
    },
    {
      "cell_type": "markdown",
      "source": [
        "#***1: Basics of Coding R/Python***\n"
      ],
      "metadata": {
        "id": "8qMI3eQLPtw5"
      }
    },
    {
      "cell_type": "markdown",
      "source": [
        "**1. Using Comments R/Python**\n"
      ],
      "metadata": {
        "id": "BWLfevCWQLna"
      }
    },
    {
      "cell_type": "code",
      "source": [
        "# This is a single-line comment\n",
        "\n",
        "'''\n",
        "This is a\n",
        "multi-line\n",
        "comment\n",
        "'''\n",
        "print(\"Hello World\")\n",
        "\"\"\"\n",
        "Another way to create\n",
        "a multi-line comment\n",
        "\"\"\"\n"
      ],
      "metadata": {
        "colab": {
          "base_uri": "https://localhost:8080/",
          "height": 55
        },
        "id": "Rj7Ld7V3QIIQ",
        "outputId": "028ad990-191b-4793-e651-a8fce22a093d"
      },
      "execution_count": 5,
      "outputs": [
        {
          "output_type": "stream",
          "name": "stdout",
          "text": [
            "Hello World\n"
          ]
        },
        {
          "output_type": "execute_result",
          "data": {
            "text/plain": [
              "'\\nAnother way to create\\na multi-line comment\\n'"
            ],
            "application/vnd.google.colaboratory.intrinsic+json": {
              "type": "string"
            }
          },
          "metadata": {},
          "execution_count": 5
        }
      ]
    },
    {
      "cell_type": "markdown",
      "source": [
        "**2. Executing Commands R/Python**"
      ],
      "metadata": {
        "id": "QY4LIKxcQtVC"
      }
    },
    {
      "cell_type": "code",
      "source": [
        "import subprocess\n",
        "\n",
        "# Example 1: Run a simple shell command\n",
        "result = subprocess.run(['ls', '-l'], stdout=subprocess.PIPE, text=True)\n",
        "print(result.stdout)\n",
        "\n",
        "# Example 2: Run a command with arguments\n",
        "file_path = 'example.txt'\n",
        "result = subprocess.run(['cat', file_path], stdout=subprocess.PIPE, text=True)\n",
        "print(result.stdout)\n",
        "\n",
        "# Example 3: Run a command with user input\n",
        "user_input = input(\"Enter a command: \")\n",
        "result = subprocess.run(user_input, shell=True, stdout=subprocess.PIPE, text=True)\n",
        "print(result.stdout)\n"
      ],
      "metadata": {
        "colab": {
          "base_uri": "https://localhost:8080/"
        },
        "id": "3Xm72j4SQzJF",
        "outputId": "64defb8c-c445-4412-8ea3-b2ad7ab2bf72"
      },
      "execution_count": 6,
      "outputs": [
        {
          "output_type": "stream",
          "name": "stdout",
          "text": [
            "total 4\n",
            "drwxr-xr-x 1 root root 4096 Dec  4 14:27 sample_data\n",
            "\n",
            "\n",
            "Enter a command: ls\n",
            "sample_data\n",
            "\n"
          ]
        }
      ]
    },
    {
      "cell_type": "markdown",
      "source": [
        "**3. Importing Packages R/Python**"
      ],
      "metadata": {
        "id": "Y4W5zA_QSRqU"
      }
    },
    {
      "cell_type": "code",
      "source": [
        "# Importing a specific module from a package\n",
        "import math\n",
        "result = math.sqrt(25)\n",
        "print(result)\n",
        "\n",
        "# Importing a package with an alias\n",
        "import numpy as np\n",
        "arr = np.array([1, 2, 3])\n",
        "print(arr)\n",
        "\n",
        "# Importing specific functions or classes from a module\n",
        "from math import sqrt\n",
        "result = sqrt(25)\n",
        "print(result)\n",
        "\n",
        "# Importing everything from a module (not recommended for large modules)\n",
        "from math import *\n",
        "result = pow(2, 3)\n",
        "print(result)"
      ],
      "metadata": {
        "colab": {
          "base_uri": "https://localhost:8080/"
        },
        "id": "JVeZmA-DSUwF",
        "outputId": "e8e92c55-58e2-4ab8-d213-a8f477f2ed93"
      },
      "execution_count": 7,
      "outputs": [
        {
          "output_type": "stream",
          "name": "stdout",
          "text": [
            "5.0\n",
            "[1 2 3]\n",
            "5.0\n",
            "8.0\n"
          ]
        }
      ]
    },
    {
      "cell_type": "markdown",
      "source": [
        "**4. Getting Data into Python**"
      ],
      "metadata": {
        "id": "Qq9vFtsrTRpM"
      }
    },
    {
      "cell_type": "code",
      "source": [
        "import pandas as pd\n",
        "url = 'https://raw.githubusercontent.com/aditya-agr/Data-Science/main/Automobile.csv'\n",
        "data = pd.read_csv(url)\n",
        "print(data.head());\n"
      ],
      "metadata": {
        "colab": {
          "base_uri": "https://localhost:8080/"
        },
        "id": "y57TRhJVTr9e",
        "outputId": "6215d660-710b-42d4-bacb-f49dbb92cf15"
      },
      "execution_count": 10,
      "outputs": [
        {
          "output_type": "stream",
          "name": "stdout",
          "text": [
            "                        name   mpg  cylinders  displacement  horsepower  \\\n",
            "0  chevrolet chevelle malibu  18.0          8         307.0       130.0   \n",
            "1          buick skylark 320  15.0          8         350.0       165.0   \n",
            "2         plymouth satellite  18.0          8         318.0       150.0   \n",
            "3              amc rebel sst  16.0          8         304.0       150.0   \n",
            "4                ford torino  17.0          8         302.0       140.0   \n",
            "\n",
            "   weight  acceleration  model_year origin  \n",
            "0    3504          12.0          70    usa  \n",
            "1    3693          11.5          70    usa  \n",
            "2    3436          11.0          70    usa  \n",
            "3    3433          12.0          70    usa  \n",
            "4    3449          10.5          70    usa  \n"
          ]
        }
      ]
    },
    {
      "cell_type": "markdown",
      "source": [
        "**5. Saving Output R/Python**"
      ],
      "metadata": {
        "id": "GjOnlttHVmUT"
      }
    },
    {
      "cell_type": "code",
      "source": [
        "import matplotlib.pyplot as plt\n",
        "\n",
        "x = [1, 2, 3, 4]\n",
        "y = [10, 20, 25, 30]\n",
        "\n",
        "plt.plot(x, y)\n",
        "plt.savefig('output_plot.png')\n"
      ],
      "metadata": {
        "colab": {
          "base_uri": "https://localhost:8080/",
          "height": 430
        },
        "id": "9twMzqmRVq1y",
        "outputId": "5874f1a9-f122-465f-c3f0-83403826b0d4"
      },
      "execution_count": 11,
      "outputs": [
        {
          "output_type": "display_data",
          "data": {
            "text/plain": [
              "<Figure size 640x480 with 1 Axes>"
            ],
            "image/png": "[encoded data removed]"
          },
          "metadata": {}
        }
      ]
    },
    {
      "cell_type": "code",
      "source": [
        "from sklearn.linear_model import LinearRegression\n",
        "import joblib\n",
        "\n",
        "model = LinearRegression()\n",
        "# Train the model\n",
        "# ...\n",
        "\n",
        "# Save the trained model\n",
        "joblib.dump(model, 'trained_model.joblib')\n"
      ],
      "metadata": {
        "colab": {
          "base_uri": "https://localhost:8080/"
        },
        "id": "xvgrexRXVxsc",
        "outputId": "8199fcf3-a64d-4981-9fd4-5096d21cd0bd"
      },
      "execution_count": 12,
      "outputs": [
        {
          "output_type": "execute_result",
          "data": {
            "text/plain": [
              "['trained_model.joblib']"
            ]
          },
          "metadata": {},
          "execution_count": 12
        }
      ]
    },
    {
      "cell_type": "markdown",
      "source": [
        "**6. Accessing Records and Variables R/Python**\n"
      ],
      "metadata": {
        "id": "x07kWfpmWYKK"
      }
    },
    {
      "cell_type": "code",
      "source": [
        "import pandas as pd\n",
        "\n",
        "# Creating a DataFrame\n",
        "data = {'Name': ['Alice', 'Bob', 'Charlie'],\n",
        "        'Age': [25, 30, 35],\n",
        "        'City': ['City1', 'City2', 'City3']}\n",
        "\n",
        "df = pd.DataFrame(data)\n",
        "\n",
        "# Accessing columns (variables)\n",
        "name_column = df['Name']\n",
        "print(name_column)\n",
        "age_column = df['Age']\n",
        "print(age_column)\n",
        "\n",
        "# Accessing rows (records)\n",
        "first_row = df.iloc[0]  # Using integer location\n",
        "print(first_row)\n",
        "second_row = df.loc[1]  # Using label-based location\n",
        "print(second_row)\n",
        "\n",
        "# Accessing specific cell value\n",
        "cell_value = df.at[1, 'Age']\n",
        "print(cell_value)\n",
        "# Filtering data based on conditions\n",
        "filtered_data = df[df['Age'] > 30]\n",
        "print(filtered_data)\n"
      ],
      "metadata": {
        "colab": {
          "base_uri": "https://localhost:8080/"
        },
        "id": "zO9kFUhRWbVE",
        "outputId": "1792cb6c-e4ab-4ecf-e2f4-16737317bf37"
      },
      "execution_count": 13,
      "outputs": [
        {
          "output_type": "stream",
          "name": "stdout",
          "text": [
            "0      Alice\n",
            "1        Bob\n",
            "2    Charlie\n",
            "Name: Name, dtype: object\n",
            "0    25\n",
            "1    30\n",
            "2    35\n",
            "Name: Age, dtype: int64\n",
            "Name    Alice\n",
            "Age        25\n",
            "City    City1\n",
            "Name: 0, dtype: object\n",
            "Name      Bob\n",
            "Age        30\n",
            "City    City2\n",
            "Name: 1, dtype: object\n",
            "30\n",
            "      Name  Age   City\n",
            "2  Charlie   35  City3\n"
          ]
        }
      ]
    },
    {
      "cell_type": "markdown",
      "source": [
        "#**2: DATA PREPARATION**"
      ],
      "metadata": {
        "id": "s3g82--FX9yX"
      }
    },
    {
      "cell_type": "markdown",
      "source": [
        "**1. How to Add an Index Field Using R/Python**\n"
      ],
      "metadata": {
        "id": "zYDVA1BxYE0S"
      }
    },
    {
      "cell_type": "code",
      "source": [
        "import pandas as pd\n",
        "\n",
        "# Sample DataFrame\n",
        "data = {'Name': ['Alice', 'Bob', 'Charlie'],\n",
        "        'Age': [25, 30, 35],\n",
        "        'City': ['City1', 'City2', 'City3']}\n",
        "\n",
        "df = pd.DataFrame(data)\n",
        "\n",
        "# Adding an index field\n",
        "df = df.reset_index()\n",
        "\n",
        "# Display the DataFrame\n",
        "print(df)"
      ],
      "metadata": {
        "colab": {
          "base_uri": "https://localhost:8080/"
        },
        "id": "dvIndlG_YcHl",
        "outputId": "c7861bcd-d85e-4c0f-d37f-5a16e367c38b"
      },
      "execution_count": 18,
      "outputs": [
        {
          "output_type": "stream",
          "name": "stdout",
          "text": [
            "   index     Name  Age   City\n",
            "0      0    Alice   25  City1\n",
            "1      1      Bob   30  City2\n",
            "2      2  Charlie   35  City3\n"
          ]
        }
      ]
    },
    {
      "cell_type": "markdown",
      "source": [
        "**2.  How to Change Misleading Field Values Using R/Python**"
      ],
      "metadata": {
        "id": "Le8HBqRDYww5"
      }
    },
    {
      "cell_type": "code",
      "source": [
        "import pandas as pd\n",
        "\n",
        "# Sample DataFrame with misleading values\n",
        "data = {'Name': ['Alice', 'Bob', 'Unknown', 'Charlie'],\n",
        "        'Age': [25, 30, -1, 35],\n",
        "        'City': ['City1', 'City2', 'City3', 'Unknown']}\n",
        "\n",
        "df = pd.DataFrame(data)\n",
        "\n",
        "# Replace misleading values\n",
        "df['Age'] = df['Age'].replace(-1, 0)\n",
        "df['City'] = df['City'].replace('Unknown', 'NA')\n",
        "\n",
        "# Display the DataFrame\n",
        "print(df)\n"
      ],
      "metadata": {
        "colab": {
          "base_uri": "https://localhost:8080/"
        },
        "id": "j21yAyIZZBsQ",
        "outputId": "a78e6c8f-74f2-4efe-bfda-a955bb524084"
      },
      "execution_count": 21,
      "outputs": [
        {
          "output_type": "stream",
          "name": "stdout",
          "text": [
            "      Name  Age   City\n",
            "0    Alice   25  City1\n",
            "1      Bob   30  City2\n",
            "2  Unknown    0  City3\n",
            "3  Charlie   35     NA\n"
          ]
        }
      ]
    },
    {
      "cell_type": "markdown",
      "source": [
        "**3. How to Reexpress Categorical Field Values Using R/Python**\n"
      ],
      "metadata": {
        "id": "ZTEyzwy6Zy-2"
      }
    },
    {
      "cell_type": "code",
      "source": [
        "import pandas as pd\n",
        "\n",
        "# Sample DataFrame with a categorical column\n",
        "data = {'Category': ['A', 'B', 'A', 'C', 'B']}\n",
        "df = pd.DataFrame(data)\n",
        "\n",
        "# Mapping to reexpress values\n",
        "mapping = {'A': 'High', 'B': 'Medium', 'C': 'Low'}\n",
        "df['Category'] = df['Category'].replace(mapping)\n",
        "\n",
        "# Display the DataFrame\n",
        "print(df)"
      ],
      "metadata": {
        "colab": {
          "base_uri": "https://localhost:8080/"
        },
        "id": "LHoguAdmdK1i",
        "outputId": "76330fc5-51fb-471d-d622-b07ee58cae48"
      },
      "execution_count": 22,
      "outputs": [
        {
          "output_type": "stream",
          "name": "stdout",
          "text": [
            "  Category\n",
            "0     High\n",
            "1   Medium\n",
            "2     High\n",
            "3      Low\n",
            "4   Medium\n"
          ]
        }
      ]
    },
    {
      "cell_type": "markdown",
      "source": [
        "**4. How to Standardise Numeric Fields Using R/Python**"
      ],
      "metadata": {
        "id": "23T8cTV6dXZs"
      }
    },
    {
      "cell_type": "code",
      "source": [
        "from sklearn.preprocessing import StandardScaler\n",
        "import pandas as pd\n",
        "\n",
        "# Sample DataFrame with numeric fields\n",
        "data = {'Height': [160, 170, 155, 180, 175],\n",
        "        'Weight': [60, 70, 55, 80, 75]}\n",
        "\n",
        "df = pd.DataFrame(data)\n",
        "\n",
        "# Standardizing numeric fields\n",
        "scaler = StandardScaler()\n",
        "df[['Height', 'Weight']] = scaler.fit_transform(df[['Height', 'Weight']])\n",
        "\n",
        "# Display the standardized DataFrame\n",
        "print(df)\n"
      ],
      "metadata": {
        "colab": {
          "base_uri": "https://localhost:8080/"
        },
        "id": "10it_rQ-daCd",
        "outputId": "ea757d14-7289-4d4f-d13c-2bff5dc4de1f"
      },
      "execution_count": 23,
      "outputs": [
        {
          "output_type": "stream",
          "name": "stdout",
          "text": [
            "     Height    Weight\n",
            "0 -0.862662 -0.862662\n",
            "1  0.215666  0.215666\n",
            "2 -1.401826 -1.401826\n",
            "3  1.293993  1.293993\n",
            "4  0.754829  0.754829\n"
          ]
        }
      ]
    },
    {
      "cell_type": "markdown",
      "source": [
        "**5.  How to Identify Outliers Using R/Python**"
      ],
      "metadata": {
        "id": "bFj_owmkeLzs"
      }
    },
    {
      "cell_type": "code",
      "source": [
        "import pandas as pd\n",
        "import matplotlib.pyplot as plt\n",
        "\n",
        "# Sample DataFrame\n",
        "data = {'Values': [1, 2, 3, 4, 5, 20]}\n",
        "\n",
        "df = pd.DataFrame(data)\n",
        "\n",
        "# Boxplot for visual inspection\n",
        "df.boxplot(column='Values')\n",
        "plt.show()"
      ],
      "metadata": {
        "colab": {
          "base_uri": "https://localhost:8080/",
          "height": 430
        },
        "id": "cgYAsoUPeOyt",
        "outputId": "a8ef2e3a-8c45-4259-8c23-5f035a99fe55"
      },
      "execution_count": 24,
      "outputs": [
        {
          "output_type": "display_data",
          "data": {
            "text/plain": [
              "<Figure size 640x480 with 1 Axes>"
            ],
            "image/png": "[encoded data removed]"
          },
          "metadata": {}
        }
      ]
    },
    {
      "cell_type": "code",
      "source": [
        "from scipy import stats\n",
        "\n",
        "# Sample DataFrame\n",
        "data = {'Values': [1, 2, 3, 4, 5, 20]}\n",
        "df = pd.DataFrame(data)\n",
        "\n",
        "# Calculate Z-scores\n",
        "z_scores = stats.zscore(df['Values'])\n",
        "\n",
        "# Identify outliers using a threshold (e.g., Z-score > 3 or < -3)\n",
        "outliers = df[abs(z_scores)>2]\n",
        "\n",
        "# Display outliers\n",
        "print(outliers)"
      ],
      "metadata": {
        "colab": {
          "base_uri": "https://localhost:8080/"
        },
        "id": "Qm0yHpraedCU",
        "outputId": "cb32ef21-a047-4d3a-9fd5-1dc5b93ab95f"
      },
      "execution_count": 29,
      "outputs": [
        {
          "output_type": "stream",
          "name": "stdout",
          "text": [
            "   Values\n",
            "5      20\n"
          ]
        }
      ]
    }
  ]
}